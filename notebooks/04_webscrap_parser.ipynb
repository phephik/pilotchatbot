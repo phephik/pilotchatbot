{
  "cells": [
    {
      "cell_type": "markdown",
      "metadata": {
        "id": "cBPbA5zPXv-a"
      },
      "source": [
        "### 03_fees_json2excek\n",
        "\n",
        "#### Overview\n",
        "This script convert json information about fees to excel file"
      ]
    },
    {
      "cell_type": "markdown",
      "metadata": {},
      "source": [
        "##### Imports"
      ]
    },
    {
      "cell_type": "code",
      "execution_count": 3,
      "metadata": {},
      "outputs": [
        {
          "name": "stdout",
          "output_type": "stream",
          "text": [
            "Collecting pandas\n",
            "  Downloading pandas-2.2.0-cp311-cp311-win_amd64.whl.metadata (19 kB)\n",
            "Requirement already satisfied: numpy<2,>=1.23.2 in c:\\users\\josef\\documents\\projects\\pilotchatbot\\pilotbotenv\\lib\\site-packages (from pandas) (1.26.3)\n",
            "Requirement already satisfied: python-dateutil>=2.8.2 in c:\\users\\josef\\documents\\projects\\pilotchatbot\\pilotbotenv\\lib\\site-packages (from pandas) (2.8.2)\n",
            "Collecting pytz>=2020.1 (from pandas)\n",
            "  Using cached pytz-2023.3.post1-py2.py3-none-any.whl.metadata (22 kB)\n",
            "Collecting tzdata>=2022.7 (from pandas)\n",
            "  Using cached tzdata-2023.4-py2.py3-none-any.whl.metadata (1.4 kB)\n",
            "Requirement already satisfied: six>=1.5 in c:\\users\\josef\\documents\\projects\\pilotchatbot\\pilotbotenv\\lib\\site-packages (from python-dateutil>=2.8.2->pandas) (1.16.0)\n",
            "Downloading pandas-2.2.0-cp311-cp311-win_amd64.whl (11.6 MB)\n",
            "   ---------------------------------------- 0.0/11.6 MB ? eta -:--:--\n",
            "   ---------------------------------------- 0.1/11.6 MB 2.6 MB/s eta 0:00:05\n",
            "   - -------------------------------------- 0.4/11.6 MB 4.5 MB/s eta 0:00:03\n",
            "   -- ------------------------------------- 0.8/11.6 MB 5.5 MB/s eta 0:00:02\n",
            "   --- ------------------------------------ 1.0/11.6 MB 6.4 MB/s eta 0:00:02\n",
            "   ----- ---------------------------------- 1.6/11.6 MB 7.2 MB/s eta 0:00:02\n",
            "   ------- -------------------------------- 2.2/11.6 MB 7.8 MB/s eta 0:00:02\n",
            "   ---------- ----------------------------- 3.0/11.6 MB 9.1 MB/s eta 0:00:01\n",
            "   ------------ --------------------------- 3.5/11.6 MB 9.3 MB/s eta 0:00:01\n",
            "   ------------- -------------------------- 3.9/11.6 MB 9.0 MB/s eta 0:00:01\n",
            "   --------------- ------------------------ 4.4/11.6 MB 9.0 MB/s eta 0:00:01\n",
            "   ---------------- ----------------------- 4.7/11.6 MB 9.1 MB/s eta 0:00:01\n",
            "   ----------------- ---------------------- 5.0/11.6 MB 8.9 MB/s eta 0:00:01\n",
            "   ------------------ --------------------- 5.4/11.6 MB 9.1 MB/s eta 0:00:01\n",
            "   ------------------- -------------------- 5.7/11.6 MB 8.8 MB/s eta 0:00:01\n",
            "   --------------------- ------------------ 6.2/11.6 MB 8.9 MB/s eta 0:00:01\n",
            "   ---------------------- ----------------- 6.5/11.6 MB 8.8 MB/s eta 0:00:01\n",
            "   ----------------------- ---------------- 6.8/11.6 MB 8.7 MB/s eta 0:00:01\n",
            "   ------------------------ --------------- 7.0/11.6 MB 8.6 MB/s eta 0:00:01\n",
            "   ------------------------- -------------- 7.4/11.6 MB 8.6 MB/s eta 0:00:01\n",
            "   -------------------------- ------------- 7.7/11.6 MB 8.7 MB/s eta 0:00:01\n",
            "   ---------------------------- ----------- 8.2/11.6 MB 8.7 MB/s eta 0:00:01\n",
            "   ----------------------------- ---------- 8.5/11.6 MB 8.8 MB/s eta 0:00:01\n",
            "   ------------------------------ --------- 8.9/11.6 MB 8.8 MB/s eta 0:00:01\n",
            "   ------------------------------- -------- 9.2/11.6 MB 8.6 MB/s eta 0:00:01\n",
            "   -------------------------------- ------- 9.5/11.6 MB 8.5 MB/s eta 0:00:01\n",
            "   ---------------------------------- ----- 9.9/11.6 MB 8.5 MB/s eta 0:00:01\n",
            "   ----------------------------------- ---- 10.2/11.6 MB 8.4 MB/s eta 0:00:01\n",
            "   ------------------------------------ --- 10.6/11.6 MB 8.7 MB/s eta 0:00:01\n",
            "   -------------------------------------- - 11.0/11.6 MB 9.0 MB/s eta 0:00:01\n",
            "   ---------------------------------------  11.3/11.6 MB 9.2 MB/s eta 0:00:01\n",
            "   ---------------------------------------  11.6/11.6 MB 9.1 MB/s eta 0:00:01\n",
            "   ---------------------------------------- 11.6/11.6 MB 8.8 MB/s eta 0:00:00\n",
            "Downloading pytz-2023.3.post1-py2.py3-none-any.whl (502 kB)\n",
            "   ---------------------------------------- 0.0/502.5 kB ? eta -:--:--\n",
            "   ----------------------------------- ---- 450.6/502.5 kB 9.4 MB/s eta 0:00:01\n",
            "   ---------------------------------------- 502.5/502.5 kB 6.3 MB/s eta 0:00:00\n",
            "Downloading tzdata-2023.4-py2.py3-none-any.whl (346 kB)\n",
            "   ---------------------------------------- 0.0/346.6 kB ? eta -:--:--\n",
            "   --------------------------------------- 346.6/346.6 kB 21.0 MB/s eta 0:00:00\n",
            "Installing collected packages: pytz, tzdata, pandas\n",
            "Successfully installed pandas-2.2.0 pytz-2023.3.post1 tzdata-2023.4\n"
          ]
        }
      ],
      "source": [
        "!pip install pandas"
      ]
    },
    {
      "cell_type": "code",
      "execution_count": 4,
      "metadata": {},
      "outputs": [
        {
          "name": "stderr",
          "output_type": "stream",
          "text": [
            "C:\\Users\\josef\\AppData\\Local\\Temp\\ipykernel_31232\\2359043305.py:4: DeprecationWarning: \n",
            "Pyarrow will become a required dependency of pandas in the next major release of pandas (pandas 3.0),\n",
            "(to allow more performant data types, such as the Arrow string type, and better interoperability with other libraries)\n",
            "but was not found to be installed on your system.\n",
            "If this would cause problems for you,\n",
            "please provide us feedback at https://github.com/pandas-dev/pandas/issues/54466\n",
            "        \n",
            "  import pandas as pd\n"
          ]
        }
      ],
      "source": [
        "import json\n",
        "import os\n",
        "import json\n",
        "import pandas as pd\n",
        "from pandas import json_normalize"
      ]
    },
    {
      "cell_type": "code",
      "execution_count": 18,
      "metadata": {},
      "outputs": [
        {
          "name": "stdout",
          "output_type": "stream",
          "text": [
            "Collecting openpyxl\n",
            "  Downloading openpyxl-3.1.2-py2.py3-none-any.whl (249 kB)\n",
            "     ---------------------------------------- 0.0/250.0 kB ? eta -:--:--\n",
            "     ----------------- -------------------- 112.6/250.0 kB 3.3 MB/s eta 0:00:01\n",
            "     ----------------- -------------------- 112.6/250.0 kB 3.3 MB/s eta 0:00:01\n",
            "     ----------------- -------------------- 112.6/250.0 kB 3.3 MB/s eta 0:00:01\n",
            "     -------------------------------------  245.8/250.0 kB 1.4 MB/s eta 0:00:01\n",
            "     -------------------------------------- 250.0/250.0 kB 1.3 MB/s eta 0:00:00\n",
            "Collecting et-xmlfile (from openpyxl)\n",
            "  Downloading et_xmlfile-1.1.0-py3-none-any.whl (4.7 kB)\n",
            "Installing collected packages: et-xmlfile, openpyxl\n",
            "Successfully installed et-xmlfile-1.1.0 openpyxl-3.1.2\n"
          ]
        }
      ],
      "source": [
        "!pip install openpyxl"
      ]
    },
    {
      "cell_type": "code",
      "execution_count": 34,
      "metadata": {},
      "outputs": [],
      "source": [
        "data_rows = []\n",
        "folder_path = '../data/extracted_cz_vfr_manual/'  # Replace with your folder path\n",
        "\n",
        "def extract_filename(text):\n",
        "    return text.split('-')[1].split('_')[0].strip().upper()\n",
        "\n",
        "# Iterate over each JSON file in the folder\n",
        "for file_name in os.listdir(folder_path):\n",
        "    if file_name.endswith('fees.json'):\n",
        "        file_path = os.path.join(folder_path, file_name)\n",
        "        icao = extract_filename(file_path)\n",
        "        # Open and load the JSON file\n",
        "        with open(file_path, 'r') as file:\n",
        "            data = json.load(file)\n",
        "\n",
        "            # Iterate over each fee category\n",
        "            for category in ['operating_fees', 'parking_fees', 'passanger_fees']:\n",
        "                category_data = data.get(category, [])\n",
        "                \n",
        "                # Ensure that category_data is a list before iterating\n",
        "                if isinstance(category_data, list):\n",
        "                    for item in category_data:\n",
        "                        row = {\n",
        "                            'icao': icao,\n",
        "                            'fee_category': category,\n",
        "                            'type': item.get('type', ''),\n",
        "                            'amount': item.get('amount', ''),\n",
        "                            'info': item.get('info', '')\n",
        "                        }\n",
        "                        data_rows.append(row)\n",
        "\n",
        "\n",
        "# Create a DataFrame\n",
        "df = pd.DataFrame(data_rows)\n",
        "\n",
        "# Output DataFrame\n",
        "\n",
        "# Optionally, save to Excel\n",
        "df.to_excel(folder_path + 'fees_output.xlsx', index=False)\n",
        "# Output DataFrame\n",
        "#print(df)\n",
        "# Specify the folder containing JSON files\n",
        "\n",
        "\n",
        "# Write data to Excel\n",
        "#output_excel = 'output.xlsx'\n",
        "#flattened_data.to_excel(output_excel, index=False)"
      ]
    }
  ],
  "metadata": {
    "colab": {
      "provenance": []
    },
    "kernelspec": {
      "display_name": "Python 3",
      "name": "python3"
    },
    "language_info": {
      "codemirror_mode": {
        "name": "ipython",
        "version": 3
      },
      "file_extension": ".py",
      "mimetype": "text/x-python",
      "name": "python",
      "nbconvert_exporter": "python",
      "pygments_lexer": "ipython3",
      "version": "3.11.0"
    }
  },
  "nbformat": 4,
  "nbformat_minor": 0
}
